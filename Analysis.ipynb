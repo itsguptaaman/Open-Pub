{
 "cells": [
  {
   "cell_type": "code",
   "execution_count": 1,
   "id": "9836322e",
   "metadata": {},
   "outputs": [],
   "source": [
    "import numpy as np\n",
    "import pandas as pd\n",
    "import matplotlib.pyplot as plt\n",
    "import seaborn as sns\n",
    "import folium\n",
    "from branca.element import Figure\n",
    "from math import radians, cos, sin, asin, sqrt"
   ]
  },
  {
   "cell_type": "code",
   "execution_count": 2,
   "id": "07668114",
   "metadata": {},
   "outputs": [],
   "source": [
    "data1 = pd.read_csv(\"open_pubs.csv\", na_values=\"\\\\N\")\n",
    "data2 = pd.read_csv(\"data_dictionary - Sheet1.csv\")"
   ]
  },
  {
   "cell_type": "code",
   "execution_count": 3,
   "id": "36754a35",
   "metadata": {},
   "outputs": [
    {
     "data": {
      "text/html": [
       "<div>\n",
       "<style scoped>\n",
       "    .dataframe tbody tr th:only-of-type {\n",
       "        vertical-align: middle;\n",
       "    }\n",
       "\n",
       "    .dataframe tbody tr th {\n",
       "        vertical-align: top;\n",
       "    }\n",
       "\n",
       "    .dataframe thead th {\n",
       "        text-align: right;\n",
       "    }\n",
       "</style>\n",
       "<table border=\"1\" class=\"dataframe\">\n",
       "  <thead>\n",
       "    <tr style=\"text-align: right;\">\n",
       "      <th></th>\n",
       "      <th>22</th>\n",
       "      <th>Anchor Inn</th>\n",
       "      <th>Upper Street, Stratford St Mary, COLCHESTER</th>\n",
       "      <th>CO7 6LW</th>\n",
       "      <th>604749</th>\n",
       "      <th>234404</th>\n",
       "      <th>51.970379</th>\n",
       "      <th>0.979340</th>\n",
       "      <th>Babergh</th>\n",
       "    </tr>\n",
       "  </thead>\n",
       "  <tbody>\n",
       "    <tr>\n",
       "      <th>0</th>\n",
       "      <td>36</td>\n",
       "      <td>Ark Bar Restaurant</td>\n",
       "      <td>Ark Bar And Restaurant, Cattawade Street, Bran...</td>\n",
       "      <td>CO11 1RH</td>\n",
       "      <td>610194</td>\n",
       "      <td>233329</td>\n",
       "      <td>51.958698</td>\n",
       "      <td>1.057832</td>\n",
       "      <td>Babergh</td>\n",
       "    </tr>\n",
       "    <tr>\n",
       "      <th>1</th>\n",
       "      <td>74</td>\n",
       "      <td>Black Boy</td>\n",
       "      <td>The Lady Elizabeth, 7 Market Hill, SUDBURY, Su...</td>\n",
       "      <td>CO10 2EA</td>\n",
       "      <td>587334</td>\n",
       "      <td>241316</td>\n",
       "      <td>52.038595</td>\n",
       "      <td>0.729915</td>\n",
       "      <td>Babergh</td>\n",
       "    </tr>\n",
       "    <tr>\n",
       "      <th>2</th>\n",
       "      <td>75</td>\n",
       "      <td>Black Horse</td>\n",
       "      <td>Lower Street, Stratford St Mary, COLCHESTER</td>\n",
       "      <td>CO7 6JS</td>\n",
       "      <td>622675</td>\n",
       "      <td>-5527598</td>\n",
       "      <td>NaN</td>\n",
       "      <td>NaN</td>\n",
       "      <td>Babergh</td>\n",
       "    </tr>\n",
       "    <tr>\n",
       "      <th>3</th>\n",
       "      <td>76</td>\n",
       "      <td>Black Lion</td>\n",
       "      <td>Lion Road, Glemsford, SUDBURY</td>\n",
       "      <td>CO10 7RF</td>\n",
       "      <td>622675</td>\n",
       "      <td>-5527598</td>\n",
       "      <td>NaN</td>\n",
       "      <td>NaN</td>\n",
       "      <td>Babergh</td>\n",
       "    </tr>\n",
       "    <tr>\n",
       "      <th>4</th>\n",
       "      <td>97</td>\n",
       "      <td>Brewers Arms</td>\n",
       "      <td>The Brewers Arms, Bower House Tye, Polstead, C...</td>\n",
       "      <td>CO6 5BZ</td>\n",
       "      <td>598743</td>\n",
       "      <td>240655</td>\n",
       "      <td>52.028694</td>\n",
       "      <td>0.895650</td>\n",
       "      <td>Babergh</td>\n",
       "    </tr>\n",
       "  </tbody>\n",
       "</table>\n",
       "</div>"
      ],
      "text/plain": [
       "   22          Anchor Inn        Upper Street, Stratford St Mary, COLCHESTER  \\\n",
       "0  36  Ark Bar Restaurant  Ark Bar And Restaurant, Cattawade Street, Bran...   \n",
       "1  74           Black Boy  The Lady Elizabeth, 7 Market Hill, SUDBURY, Su...   \n",
       "2  75         Black Horse        Lower Street, Stratford St Mary, COLCHESTER   \n",
       "3  76          Black Lion                      Lion Road, Glemsford, SUDBURY   \n",
       "4  97        Brewers Arms  The Brewers Arms, Bower House Tye, Polstead, C...   \n",
       "\n",
       "    CO7 6LW  604749   234404  51.970379  0.979340  Babergh  \n",
       "0  CO11 1RH  610194   233329  51.958698  1.057832  Babergh  \n",
       "1  CO10 2EA  587334   241316  52.038595  0.729915  Babergh  \n",
       "2   CO7 6JS  622675 -5527598        NaN       NaN  Babergh  \n",
       "3  CO10 7RF  622675 -5527598        NaN       NaN  Babergh  \n",
       "4   CO6 5BZ  598743   240655  52.028694  0.895650  Babergh  "
      ]
     },
     "execution_count": 3,
     "metadata": {},
     "output_type": "execute_result"
    }
   ],
   "source": [
    "data1.head()"
   ]
  },
  {
   "cell_type": "code",
   "execution_count": 4,
   "id": "454dc208",
   "metadata": {},
   "outputs": [
    {
     "data": {
      "text/html": [
       "<div>\n",
       "<style scoped>\n",
       "    .dataframe tbody tr th:only-of-type {\n",
       "        vertical-align: middle;\n",
       "    }\n",
       "\n",
       "    .dataframe tbody tr th {\n",
       "        vertical-align: top;\n",
       "    }\n",
       "\n",
       "    .dataframe thead th {\n",
       "        text-align: right;\n",
       "    }\n",
       "</style>\n",
       "<table border=\"1\" class=\"dataframe\">\n",
       "  <thead>\n",
       "    <tr style=\"text-align: right;\">\n",
       "      <th></th>\n",
       "      <th>Field</th>\n",
       "      <th>Possible Values</th>\n",
       "      <th>Comments</th>\n",
       "    </tr>\n",
       "  </thead>\n",
       "  <tbody>\n",
       "    <tr>\n",
       "      <th>0</th>\n",
       "      <td>fsa_id</td>\n",
       "      <td>int</td>\n",
       "      <td>Food Standard Agency's ID for this pub.</td>\n",
       "    </tr>\n",
       "    <tr>\n",
       "      <th>1</th>\n",
       "      <td>name</td>\n",
       "      <td>string</td>\n",
       "      <td>Name of the pub.</td>\n",
       "    </tr>\n",
       "    <tr>\n",
       "      <th>2</th>\n",
       "      <td>address</td>\n",
       "      <td>string</td>\n",
       "      <td>Address fields separated by commas.</td>\n",
       "    </tr>\n",
       "    <tr>\n",
       "      <th>3</th>\n",
       "      <td>postcode</td>\n",
       "      <td>string</td>\n",
       "      <td>Postcode of the pub.</td>\n",
       "    </tr>\n",
       "    <tr>\n",
       "      <th>4</th>\n",
       "      <td>easting</td>\n",
       "      <td>int</td>\n",
       "      <td>NaN</td>\n",
       "    </tr>\n",
       "    <tr>\n",
       "      <th>5</th>\n",
       "      <td>northing</td>\n",
       "      <td>int</td>\n",
       "      <td>NaN</td>\n",
       "    </tr>\n",
       "    <tr>\n",
       "      <th>6</th>\n",
       "      <td>latitude</td>\n",
       "      <td>decimal</td>\n",
       "      <td>NaN</td>\n",
       "    </tr>\n",
       "    <tr>\n",
       "      <th>7</th>\n",
       "      <td>longitude</td>\n",
       "      <td>decimal</td>\n",
       "      <td>NaN</td>\n",
       "    </tr>\n",
       "    <tr>\n",
       "      <th>8</th>\n",
       "      <td>local_authority</td>\n",
       "      <td>string</td>\n",
       "      <td>Local authority this pub falls under.</td>\n",
       "    </tr>\n",
       "  </tbody>\n",
       "</table>\n",
       "</div>"
      ],
      "text/plain": [
       "             Field Possible Values                                 Comments\n",
       "0           fsa_id             int  Food Standard Agency's ID for this pub.\n",
       "1             name          string                         Name of the pub.\n",
       "2          address          string      Address fields separated by commas.\n",
       "3         postcode          string                     Postcode of the pub.\n",
       "4          easting             int                                      NaN\n",
       "5         northing             int                                      NaN\n",
       "6         latitude         decimal                                      NaN\n",
       "7        longitude         decimal                                      NaN\n",
       "8  local_authority          string    Local authority this pub falls under."
      ]
     },
     "execution_count": 4,
     "metadata": {},
     "output_type": "execute_result"
    }
   ],
   "source": [
    "data2"
   ]
  },
  {
   "cell_type": "code",
   "execution_count": 5,
   "id": "eb9f5e83",
   "metadata": {},
   "outputs": [
    {
     "data": {
      "text/plain": [
       "(51330, 9)"
      ]
     },
     "execution_count": 5,
     "metadata": {},
     "output_type": "execute_result"
    }
   ],
   "source": [
    "data1.shape"
   ]
  },
  {
   "cell_type": "code",
   "execution_count": 6,
   "id": "8873becd",
   "metadata": {},
   "outputs": [],
   "source": [
    "column = list(data2[\"Field\"])"
   ]
  },
  {
   "cell_type": "code",
   "execution_count": 7,
   "id": "8c87d7d5",
   "metadata": {},
   "outputs": [],
   "source": [
    "data1.columns = column"
   ]
  },
  {
   "cell_type": "code",
   "execution_count": 8,
   "id": "10bb3f17",
   "metadata": {},
   "outputs": [],
   "source": [
    "df = data1.copy()"
   ]
  },
  {
   "cell_type": "code",
   "execution_count": 9,
   "id": "d95cf720",
   "metadata": {},
   "outputs": [
    {
     "data": {
      "text/html": [
       "<div>\n",
       "<style scoped>\n",
       "    .dataframe tbody tr th:only-of-type {\n",
       "        vertical-align: middle;\n",
       "    }\n",
       "\n",
       "    .dataframe tbody tr th {\n",
       "        vertical-align: top;\n",
       "    }\n",
       "\n",
       "    .dataframe thead th {\n",
       "        text-align: right;\n",
       "    }\n",
       "</style>\n",
       "<table border=\"1\" class=\"dataframe\">\n",
       "  <thead>\n",
       "    <tr style=\"text-align: right;\">\n",
       "      <th></th>\n",
       "      <th>fsa_id</th>\n",
       "      <th>name</th>\n",
       "      <th>address</th>\n",
       "      <th>postcode</th>\n",
       "      <th>easting</th>\n",
       "      <th>northing</th>\n",
       "      <th>latitude</th>\n",
       "      <th>longitude</th>\n",
       "      <th>local_authority</th>\n",
       "    </tr>\n",
       "  </thead>\n",
       "  <tbody>\n",
       "    <tr>\n",
       "      <th>0</th>\n",
       "      <td>36</td>\n",
       "      <td>Ark Bar Restaurant</td>\n",
       "      <td>Ark Bar And Restaurant, Cattawade Street, Bran...</td>\n",
       "      <td>CO11 1RH</td>\n",
       "      <td>610194</td>\n",
       "      <td>233329</td>\n",
       "      <td>51.958698</td>\n",
       "      <td>1.057832</td>\n",
       "      <td>Babergh</td>\n",
       "    </tr>\n",
       "    <tr>\n",
       "      <th>1</th>\n",
       "      <td>74</td>\n",
       "      <td>Black Boy</td>\n",
       "      <td>The Lady Elizabeth, 7 Market Hill, SUDBURY, Su...</td>\n",
       "      <td>CO10 2EA</td>\n",
       "      <td>587334</td>\n",
       "      <td>241316</td>\n",
       "      <td>52.038595</td>\n",
       "      <td>0.729915</td>\n",
       "      <td>Babergh</td>\n",
       "    </tr>\n",
       "    <tr>\n",
       "      <th>2</th>\n",
       "      <td>75</td>\n",
       "      <td>Black Horse</td>\n",
       "      <td>Lower Street, Stratford St Mary, COLCHESTER</td>\n",
       "      <td>CO7 6JS</td>\n",
       "      <td>622675</td>\n",
       "      <td>-5527598</td>\n",
       "      <td>NaN</td>\n",
       "      <td>NaN</td>\n",
       "      <td>Babergh</td>\n",
       "    </tr>\n",
       "    <tr>\n",
       "      <th>3</th>\n",
       "      <td>76</td>\n",
       "      <td>Black Lion</td>\n",
       "      <td>Lion Road, Glemsford, SUDBURY</td>\n",
       "      <td>CO10 7RF</td>\n",
       "      <td>622675</td>\n",
       "      <td>-5527598</td>\n",
       "      <td>NaN</td>\n",
       "      <td>NaN</td>\n",
       "      <td>Babergh</td>\n",
       "    </tr>\n",
       "    <tr>\n",
       "      <th>4</th>\n",
       "      <td>97</td>\n",
       "      <td>Brewers Arms</td>\n",
       "      <td>The Brewers Arms, Bower House Tye, Polstead, C...</td>\n",
       "      <td>CO6 5BZ</td>\n",
       "      <td>598743</td>\n",
       "      <td>240655</td>\n",
       "      <td>52.028694</td>\n",
       "      <td>0.895650</td>\n",
       "      <td>Babergh</td>\n",
       "    </tr>\n",
       "  </tbody>\n",
       "</table>\n",
       "</div>"
      ],
      "text/plain": [
       "   fsa_id                name  \\\n",
       "0      36  Ark Bar Restaurant   \n",
       "1      74           Black Boy   \n",
       "2      75         Black Horse   \n",
       "3      76          Black Lion   \n",
       "4      97        Brewers Arms   \n",
       "\n",
       "                                             address  postcode  easting  \\\n",
       "0  Ark Bar And Restaurant, Cattawade Street, Bran...  CO11 1RH   610194   \n",
       "1  The Lady Elizabeth, 7 Market Hill, SUDBURY, Su...  CO10 2EA   587334   \n",
       "2        Lower Street, Stratford St Mary, COLCHESTER   CO7 6JS   622675   \n",
       "3                      Lion Road, Glemsford, SUDBURY  CO10 7RF   622675   \n",
       "4  The Brewers Arms, Bower House Tye, Polstead, C...   CO6 5BZ   598743   \n",
       "\n",
       "   northing   latitude  longitude local_authority  \n",
       "0    233329  51.958698   1.057832         Babergh  \n",
       "1    241316  52.038595   0.729915         Babergh  \n",
       "2  -5527598        NaN        NaN         Babergh  \n",
       "3  -5527598        NaN        NaN         Babergh  \n",
       "4    240655  52.028694   0.895650         Babergh  "
      ]
     },
     "execution_count": 9,
     "metadata": {},
     "output_type": "execute_result"
    }
   ],
   "source": [
    "df.head()"
   ]
  },
  {
   "cell_type": "code",
   "execution_count": 10,
   "id": "7ca707ef",
   "metadata": {},
   "outputs": [
    {
     "data": {
      "text/plain": [
       "(51330, 9)"
      ]
     },
     "execution_count": 10,
     "metadata": {},
     "output_type": "execute_result"
    }
   ],
   "source": [
    "df.shape"
   ]
  },
  {
   "cell_type": "code",
   "execution_count": 11,
   "id": "889b229c",
   "metadata": {},
   "outputs": [
    {
     "name": "stdout",
     "output_type": "stream",
     "text": [
      "<class 'pandas.core.frame.DataFrame'>\n",
      "RangeIndex: 51330 entries, 0 to 51329\n",
      "Data columns (total 9 columns):\n",
      " #   Column           Non-Null Count  Dtype  \n",
      "---  ------           --------------  -----  \n",
      " 0   fsa_id           51330 non-null  int64  \n",
      " 1   name             51330 non-null  object \n",
      " 2   address          51330 non-null  object \n",
      " 3   postcode         51330 non-null  object \n",
      " 4   easting          51330 non-null  int64  \n",
      " 5   northing         51330 non-null  int64  \n",
      " 6   latitude         50563 non-null  float64\n",
      " 7   longitude        50563 non-null  float64\n",
      " 8   local_authority  51330 non-null  object \n",
      "dtypes: float64(2), int64(3), object(4)\n",
      "memory usage: 3.5+ MB\n"
     ]
    }
   ],
   "source": [
    "df.info()"
   ]
  },
  {
   "cell_type": "code",
   "execution_count": 12,
   "id": "a663e92a",
   "metadata": {},
   "outputs": [
    {
     "data": {
      "text/html": [
       "<div>\n",
       "<style scoped>\n",
       "    .dataframe tbody tr th:only-of-type {\n",
       "        vertical-align: middle;\n",
       "    }\n",
       "\n",
       "    .dataframe tbody tr th {\n",
       "        vertical-align: top;\n",
       "    }\n",
       "\n",
       "    .dataframe thead th {\n",
       "        text-align: right;\n",
       "    }\n",
       "</style>\n",
       "<table border=\"1\" class=\"dataframe\">\n",
       "  <thead>\n",
       "    <tr style=\"text-align: right;\">\n",
       "      <th></th>\n",
       "      <th>fsa_id</th>\n",
       "      <th>easting</th>\n",
       "      <th>northing</th>\n",
       "      <th>latitude</th>\n",
       "      <th>longitude</th>\n",
       "    </tr>\n",
       "  </thead>\n",
       "  <tbody>\n",
       "    <tr>\n",
       "      <th>count</th>\n",
       "      <td>51330.000000</td>\n",
       "      <td>51330.000000</td>\n",
       "      <td>5.133000e+04</td>\n",
       "      <td>50563.000000</td>\n",
       "      <td>50563.000000</td>\n",
       "    </tr>\n",
       "    <tr>\n",
       "      <th>mean</th>\n",
       "      <td>299401.204189</td>\n",
       "      <td>429853.990610</td>\n",
       "      <td>2.271940e+05</td>\n",
       "      <td>52.718772</td>\n",
       "      <td>-1.618317</td>\n",
       "    </tr>\n",
       "    <tr>\n",
       "      <th>std</th>\n",
       "      <td>169358.946123</td>\n",
       "      <td>98556.969786</td>\n",
       "      <td>7.277459e+05</td>\n",
       "      <td>1.497436</td>\n",
       "      <td>1.415450</td>\n",
       "    </tr>\n",
       "    <tr>\n",
       "      <th>min</th>\n",
       "      <td>36.000000</td>\n",
       "      <td>78110.000000</td>\n",
       "      <td>-5.527598e+06</td>\n",
       "      <td>49.892485</td>\n",
       "      <td>-7.384525</td>\n",
       "    </tr>\n",
       "    <tr>\n",
       "      <th>25%</th>\n",
       "      <td>167800.500000</td>\n",
       "      <td>361449.000000</td>\n",
       "      <td>1.792435e+05</td>\n",
       "      <td>51.512366</td>\n",
       "      <td>-2.590561</td>\n",
       "    </tr>\n",
       "    <tr>\n",
       "      <th>50%</th>\n",
       "      <td>303719.500000</td>\n",
       "      <td>428770.000000</td>\n",
       "      <td>2.872515e+05</td>\n",
       "      <td>52.502652</td>\n",
       "      <td>-1.584745</td>\n",
       "    </tr>\n",
       "    <tr>\n",
       "      <th>75%</th>\n",
       "      <td>438957.750000</td>\n",
       "      <td>509795.750000</td>\n",
       "      <td>4.089420e+05</td>\n",
       "      <td>53.585197</td>\n",
       "      <td>-0.449987</td>\n",
       "    </tr>\n",
       "    <tr>\n",
       "      <th>max</th>\n",
       "      <td>597137.000000</td>\n",
       "      <td>655277.000000</td>\n",
       "      <td>1.209661e+06</td>\n",
       "      <td>60.764969</td>\n",
       "      <td>1.757763</td>\n",
       "    </tr>\n",
       "  </tbody>\n",
       "</table>\n",
       "</div>"
      ],
      "text/plain": [
       "              fsa_id        easting      northing      latitude     longitude\n",
       "count   51330.000000   51330.000000  5.133000e+04  50563.000000  50563.000000\n",
       "mean   299401.204189  429853.990610  2.271940e+05     52.718772     -1.618317\n",
       "std    169358.946123   98556.969786  7.277459e+05      1.497436      1.415450\n",
       "min        36.000000   78110.000000 -5.527598e+06     49.892485     -7.384525\n",
       "25%    167800.500000  361449.000000  1.792435e+05     51.512366     -2.590561\n",
       "50%    303719.500000  428770.000000  2.872515e+05     52.502652     -1.584745\n",
       "75%    438957.750000  509795.750000  4.089420e+05     53.585197     -0.449987\n",
       "max    597137.000000  655277.000000  1.209661e+06     60.764969      1.757763"
      ]
     },
     "execution_count": 12,
     "metadata": {},
     "output_type": "execute_result"
    }
   ],
   "source": [
    "df.describe()"
   ]
  },
  {
   "cell_type": "code",
   "execution_count": 13,
   "id": "488bbd58",
   "metadata": {},
   "outputs": [
    {
     "data": {
      "text/plain": [
       "fsa_id             0.000000\n",
       "name               0.000000\n",
       "address            0.000000\n",
       "postcode           0.000000\n",
       "easting            0.000000\n",
       "northing           0.000000\n",
       "latitude           0.014943\n",
       "longitude          0.014943\n",
       "local_authority    0.000000\n",
       "dtype: float64"
      ]
     },
     "execution_count": 13,
     "metadata": {},
     "output_type": "execute_result"
    }
   ],
   "source": [
    "df.isna().mean()"
   ]
  },
  {
   "cell_type": "code",
   "execution_count": 14,
   "id": "715a3c89",
   "metadata": {},
   "outputs": [
    {
     "data": {
      "text/plain": [
       "(50563, 9)"
      ]
     },
     "execution_count": 14,
     "metadata": {},
     "output_type": "execute_result"
    }
   ],
   "source": [
    "# Checking the shape after dropping the values\n",
    "df.dropna().shape"
   ]
  },
  {
   "cell_type": "code",
   "execution_count": 15,
   "id": "b07666c8",
   "metadata": {},
   "outputs": [
    {
     "data": {
      "text/plain": [
       "(50563, 9)"
      ]
     },
     "execution_count": 15,
     "metadata": {},
     "output_type": "execute_result"
    }
   ],
   "source": [
    "# Since the nan values are less than 1.5% in latitude and longitude we will drop them\n",
    "df = df.dropna()\n",
    "df.shape"
   ]
  },
  {
   "cell_type": "code",
   "execution_count": 16,
   "id": "d97d367a",
   "metadata": {},
   "outputs": [
    {
     "data": {
      "text/plain": [
       "fsa_id             0\n",
       "name               0\n",
       "address            0\n",
       "postcode           0\n",
       "easting            0\n",
       "northing           0\n",
       "latitude           0\n",
       "longitude          0\n",
       "local_authority    0\n",
       "dtype: int64"
      ]
     },
     "execution_count": 16,
     "metadata": {},
     "output_type": "execute_result"
    }
   ],
   "source": [
    "df.isna().sum()"
   ]
  },
  {
   "cell_type": "code",
   "execution_count": 17,
   "id": "d83ef869",
   "metadata": {},
   "outputs": [],
   "source": [
    "\n",
    "def dist(lat1, long1, lat2, long2):\n",
    "    \"\"\"\n",
    "    Calculate the great circle distance between two points \n",
    "    on the earth (specified in decimal degrees)\n",
    "    \"\"\"\n",
    "    # convert decimal degrees to radians \n",
    "    lat1, long1, lat2, long2 = map(radians, [lat1, long1, lat2, long2])\n",
    "    # haversine formula \n",
    "    dlon = long2 - long1 \n",
    "    dlat = lat2 - lat1 \n",
    "    a = sin(dlat/2)**2 + cos(lat1) * cos(lat2) * sin(dlon/2)**2\n",
    "    c = 2 * asin(sqrt(a)) \n",
    "    # Radius of earth in kilometers is 6371\n",
    "    km = 6371* c\n",
    "    return km"
   ]
  },
  {
   "cell_type": "code",
   "execution_count": 18,
   "id": "ef5d182d",
   "metadata": {},
   "outputs": [
    {
     "data": {
      "text/html": [
       "<div>\n",
       "<style scoped>\n",
       "    .dataframe tbody tr th:only-of-type {\n",
       "        vertical-align: middle;\n",
       "    }\n",
       "\n",
       "    .dataframe tbody tr th {\n",
       "        vertical-align: top;\n",
       "    }\n",
       "\n",
       "    .dataframe thead th {\n",
       "        text-align: right;\n",
       "    }\n",
       "</style>\n",
       "<table border=\"1\" class=\"dataframe\">\n",
       "  <thead>\n",
       "    <tr style=\"text-align: right;\">\n",
       "      <th></th>\n",
       "      <th>fsa_id</th>\n",
       "      <th>name</th>\n",
       "      <th>address</th>\n",
       "      <th>postcode</th>\n",
       "      <th>easting</th>\n",
       "      <th>northing</th>\n",
       "      <th>latitude</th>\n",
       "      <th>longitude</th>\n",
       "      <th>local_authority</th>\n",
       "    </tr>\n",
       "  </thead>\n",
       "  <tbody>\n",
       "    <tr>\n",
       "      <th>0</th>\n",
       "      <td>36</td>\n",
       "      <td>Ark Bar Restaurant</td>\n",
       "      <td>Ark Bar And Restaurant, Cattawade Street, Bran...</td>\n",
       "      <td>CO11 1RH</td>\n",
       "      <td>610194</td>\n",
       "      <td>233329</td>\n",
       "      <td>51.958698</td>\n",
       "      <td>1.057832</td>\n",
       "      <td>Babergh</td>\n",
       "    </tr>\n",
       "    <tr>\n",
       "      <th>1</th>\n",
       "      <td>74</td>\n",
       "      <td>Black Boy</td>\n",
       "      <td>The Lady Elizabeth, 7 Market Hill, SUDBURY, Su...</td>\n",
       "      <td>CO10 2EA</td>\n",
       "      <td>587334</td>\n",
       "      <td>241316</td>\n",
       "      <td>52.038595</td>\n",
       "      <td>0.729915</td>\n",
       "      <td>Babergh</td>\n",
       "    </tr>\n",
       "    <tr>\n",
       "      <th>4</th>\n",
       "      <td>97</td>\n",
       "      <td>Brewers Arms</td>\n",
       "      <td>The Brewers Arms, Bower House Tye, Polstead, C...</td>\n",
       "      <td>CO6 5BZ</td>\n",
       "      <td>598743</td>\n",
       "      <td>240655</td>\n",
       "      <td>52.028694</td>\n",
       "      <td>0.895650</td>\n",
       "      <td>Babergh</td>\n",
       "    </tr>\n",
       "    <tr>\n",
       "      <th>5</th>\n",
       "      <td>102</td>\n",
       "      <td>Bristol Arms</td>\n",
       "      <td>Bristol Hill, Shotley, IPSWICH</td>\n",
       "      <td>IP9 1PU</td>\n",
       "      <td>624624</td>\n",
       "      <td>233550</td>\n",
       "      <td>51.955042</td>\n",
       "      <td>1.267642</td>\n",
       "      <td>Babergh</td>\n",
       "    </tr>\n",
       "    <tr>\n",
       "      <th>6</th>\n",
       "      <td>122</td>\n",
       "      <td>Caffeine Lounge</td>\n",
       "      <td>14 Borehamgate Shopping Precinct, King Street,...</td>\n",
       "      <td>CO10 2ED</td>\n",
       "      <td>587527</td>\n",
       "      <td>241247</td>\n",
       "      <td>52.037903</td>\n",
       "      <td>0.732687</td>\n",
       "      <td>Babergh</td>\n",
       "    </tr>\n",
       "    <tr>\n",
       "      <th>...</th>\n",
       "      <td>...</td>\n",
       "      <td>...</td>\n",
       "      <td>...</td>\n",
       "      <td>...</td>\n",
       "      <td>...</td>\n",
       "      <td>...</td>\n",
       "      <td>...</td>\n",
       "      <td>...</td>\n",
       "      <td>...</td>\n",
       "    </tr>\n",
       "    <tr>\n",
       "      <th>51325</th>\n",
       "      <td>597119</td>\n",
       "      <td>Wrexham &amp; District War Memorial Club Ltd</td>\n",
       "      <td>Wrexham War Memorial Club Farndon Street, Wrex...</td>\n",
       "      <td>LL13 8DE</td>\n",
       "      <td>333909</td>\n",
       "      <td>350438</td>\n",
       "      <td>53.047100</td>\n",
       "      <td>-2.987319</td>\n",
       "      <td>Wrexham</td>\n",
       "    </tr>\n",
       "    <tr>\n",
       "      <th>51326</th>\n",
       "      <td>597127</td>\n",
       "      <td>Wrexham Lager Social Club</td>\n",
       "      <td>1 - 3 Union Road, Wrexham, Wrexham</td>\n",
       "      <td>LL13 7SR</td>\n",
       "      <td>333028</td>\n",
       "      <td>350563</td>\n",
       "      <td>53.048123</td>\n",
       "      <td>-3.000485</td>\n",
       "      <td>Wrexham</td>\n",
       "    </tr>\n",
       "    <tr>\n",
       "      <th>51327</th>\n",
       "      <td>597130</td>\n",
       "      <td>Wrexham Rail Sports &amp; Social Club</td>\n",
       "      <td>Sports And Social Club, 44 Brook Street, Wrexh...</td>\n",
       "      <td>LL13 7LU</td>\n",
       "      <td>333259</td>\n",
       "      <td>350213</td>\n",
       "      <td>53.044998</td>\n",
       "      <td>-2.996966</td>\n",
       "      <td>Wrexham</td>\n",
       "    </tr>\n",
       "    <tr>\n",
       "      <th>51328</th>\n",
       "      <td>597131</td>\n",
       "      <td>Wrexham Rugby Club</td>\n",
       "      <td>Wrexham Rugby Club Bryn Estyn Road, Wrexham, W...</td>\n",
       "      <td>LL13 9TY</td>\n",
       "      <td>335808</td>\n",
       "      <td>351078</td>\n",
       "      <td>53.053094</td>\n",
       "      <td>-2.959124</td>\n",
       "      <td>Wrexham</td>\n",
       "    </tr>\n",
       "    <tr>\n",
       "      <th>51329</th>\n",
       "      <td>597137</td>\n",
       "      <td>Y Tai</td>\n",
       "      <td>Y Tai Railway Road, Brymbo, Wrexham, Wrexham</td>\n",
       "      <td>LL11 5EA</td>\n",
       "      <td>329721</td>\n",
       "      <td>353785</td>\n",
       "      <td>53.076638</td>\n",
       "      <td>-3.050512</td>\n",
       "      <td>Wrexham</td>\n",
       "    </tr>\n",
       "  </tbody>\n",
       "</table>\n",
       "<p>50563 rows × 9 columns</p>\n",
       "</div>"
      ],
      "text/plain": [
       "       fsa_id                                      name  \\\n",
       "0          36                        Ark Bar Restaurant   \n",
       "1          74                                 Black Boy   \n",
       "4          97                              Brewers Arms   \n",
       "5         102                              Bristol Arms   \n",
       "6         122                           Caffeine Lounge   \n",
       "...       ...                                       ...   \n",
       "51325  597119  Wrexham & District War Memorial Club Ltd   \n",
       "51326  597127                 Wrexham Lager Social Club   \n",
       "51327  597130         Wrexham Rail Sports & Social Club   \n",
       "51328  597131                        Wrexham Rugby Club   \n",
       "51329  597137                                     Y Tai   \n",
       "\n",
       "                                                 address  postcode  easting  \\\n",
       "0      Ark Bar And Restaurant, Cattawade Street, Bran...  CO11 1RH   610194   \n",
       "1      The Lady Elizabeth, 7 Market Hill, SUDBURY, Su...  CO10 2EA   587334   \n",
       "4      The Brewers Arms, Bower House Tye, Polstead, C...   CO6 5BZ   598743   \n",
       "5                         Bristol Hill, Shotley, IPSWICH   IP9 1PU   624624   \n",
       "6      14 Borehamgate Shopping Precinct, King Street,...  CO10 2ED   587527   \n",
       "...                                                  ...       ...      ...   \n",
       "51325  Wrexham War Memorial Club Farndon Street, Wrex...  LL13 8DE   333909   \n",
       "51326                 1 - 3 Union Road, Wrexham, Wrexham  LL13 7SR   333028   \n",
       "51327  Sports And Social Club, 44 Brook Street, Wrexh...  LL13 7LU   333259   \n",
       "51328  Wrexham Rugby Club Bryn Estyn Road, Wrexham, W...  LL13 9TY   335808   \n",
       "51329       Y Tai Railway Road, Brymbo, Wrexham, Wrexham  LL11 5EA   329721   \n",
       "\n",
       "       northing   latitude  longitude local_authority  \n",
       "0        233329  51.958698   1.057832         Babergh  \n",
       "1        241316  52.038595   0.729915         Babergh  \n",
       "4        240655  52.028694   0.895650         Babergh  \n",
       "5        233550  51.955042   1.267642         Babergh  \n",
       "6        241247  52.037903   0.732687         Babergh  \n",
       "...         ...        ...        ...             ...  \n",
       "51325    350438  53.047100  -2.987319         Wrexham  \n",
       "51326    350563  53.048123  -3.000485         Wrexham  \n",
       "51327    350213  53.044998  -2.996966         Wrexham  \n",
       "51328    351078  53.053094  -2.959124         Wrexham  \n",
       "51329    353785  53.076638  -3.050512         Wrexham  \n",
       "\n",
       "[50563 rows x 9 columns]"
      ]
     },
     "execution_count": 18,
     "metadata": {},
     "output_type": "execute_result"
    }
   ],
   "source": [
    "df"
   ]
  },
  {
   "cell_type": "code",
   "execution_count": 19,
   "id": "6948dabe",
   "metadata": {},
   "outputs": [
    {
     "data": {
      "text/plain": [
       "'Ark Bar And Restaurant, Cattawade Street, Brantham, MANNINGTREE'"
      ]
     },
     "execution_count": 19,
     "metadata": {},
     "output_type": "execute_result"
    }
   ],
   "source": [
    "df[\"address\"][0]"
   ]
  },
  {
   "cell_type": "code",
   "execution_count": 20,
   "id": "00283d66",
   "metadata": {},
   "outputs": [],
   "source": [
    "# lat1 = 51.958698\n",
    "# long1 = 1.059041\n",
    "lat2 = 52.038595\n",
    "long2 = 0.729915"
   ]
  },
  {
   "cell_type": "code",
   "execution_count": 21,
   "id": "97136678",
   "metadata": {},
   "outputs": [],
   "source": [
    "# lat1 = 52.018595\n",
    "# long1 = 0.729915"
   ]
  },
  {
   "cell_type": "code",
   "execution_count": 22,
   "id": "77838602",
   "metadata": {
    "scrolled": true
   },
   "outputs": [],
   "source": [
    "# dist(lat1, long1, lat2, long2)"
   ]
  },
  {
   "cell_type": "code",
   "execution_count": 23,
   "id": "70a90118",
   "metadata": {},
   "outputs": [],
   "source": [
    "def find_nearest(lat, long):\n",
    "    distances = df.apply(\n",
    "        lambda row: dist(lat, long, row['latitude'], row['longitude']), \n",
    "        axis=1)\n",
    "#     print(distances)\n",
    "#     print(distances.idxmin())\n",
    "#     return df.loc[distances.idxmin(), 'name']\n",
    "    l = dict(distances.sort_values().iloc[:5])\n",
    "    print(l)\n",
    "    return df.loc[l.keys(), 'name']"
   ]
  },
  {
   "cell_type": "code",
   "execution_count": 24,
   "id": "ccd1be66",
   "metadata": {},
   "outputs": [],
   "source": [
    "def find_nearest(lat, long):\n",
    "    distances = df.apply(lambda row: dist(lat, long, row['latitude'], row['longitude']),axis=1)\n",
    "    l = dict(distances.sort_values().iloc[:5])\n",
    "    print(l)\n",
    "    return df.loc[l.keys(), 'name'], l"
   ]
  },
  {
   "cell_type": "code",
   "execution_count": 25,
   "id": "fe386530",
   "metadata": {
    "scrolled": true
   },
   "outputs": [
    {
     "name": "stdout",
     "output_type": "stream",
     "text": [
      "{1: 0.0, 32: 0.12755130056022337, 49: 0.17654105995225267, 92: 0.18983531828304656, 14: 0.20316540871676356}\n"
     ]
    }
   ],
   "source": [
    "x1, l = find_nearest(lat2, long2)"
   ]
  },
  {
   "cell_type": "code",
   "execution_count": 26,
   "id": "a3f87e28",
   "metadata": {},
   "outputs": [],
   "source": [
    "dt = {\"Names\":list(x1),\n",
    "\"Distance\":list(l.values())}"
   ]
  },
  {
   "cell_type": "code",
   "execution_count": 27,
   "id": "a4fe2113",
   "metadata": {},
   "outputs": [
    {
     "data": {
      "text/html": [
       "<div>\n",
       "<style scoped>\n",
       "    .dataframe tbody tr th:only-of-type {\n",
       "        vertical-align: middle;\n",
       "    }\n",
       "\n",
       "    .dataframe tbody tr th {\n",
       "        vertical-align: top;\n",
       "    }\n",
       "\n",
       "    .dataframe thead th {\n",
       "        text-align: right;\n",
       "    }\n",
       "</style>\n",
       "<table border=\"1\" class=\"dataframe\">\n",
       "  <thead>\n",
       "    <tr style=\"text-align: right;\">\n",
       "      <th></th>\n",
       "      <th>Names</th>\n",
       "      <th>Distance</th>\n",
       "    </tr>\n",
       "  </thead>\n",
       "  <tbody>\n",
       "    <tr>\n",
       "      <th>0</th>\n",
       "      <td>Black Boy</td>\n",
       "      <td>0.000000</td>\n",
       "    </tr>\n",
       "    <tr>\n",
       "      <th>1</th>\n",
       "      <td>Sudbury Institute Club</td>\n",
       "      <td>0.127551</td>\n",
       "    </tr>\n",
       "    <tr>\n",
       "      <th>2</th>\n",
       "      <td>The Comfortable Cow</td>\n",
       "      <td>0.176541</td>\n",
       "    </tr>\n",
       "    <tr>\n",
       "      <th>3</th>\n",
       "      <td>White Horse</td>\n",
       "      <td>0.189835</td>\n",
       "    </tr>\n",
       "    <tr>\n",
       "      <th>4</th>\n",
       "      <td>Grover and Allen - J D Wetherspoon</td>\n",
       "      <td>0.203165</td>\n",
       "    </tr>\n",
       "  </tbody>\n",
       "</table>\n",
       "</div>"
      ],
      "text/plain": [
       "                                Names  Distance\n",
       "0                           Black Boy  0.000000\n",
       "1              Sudbury Institute Club  0.127551\n",
       "2                 The Comfortable Cow  0.176541\n",
       "3                         White Horse  0.189835\n",
       "4  Grover and Allen - J D Wetherspoon  0.203165"
      ]
     },
     "execution_count": 27,
     "metadata": {},
     "output_type": "execute_result"
    }
   ],
   "source": [
    "pd.DataFrame(dt)"
   ]
  },
  {
   "cell_type": "code",
   "execution_count": null,
   "id": "3f137f49",
   "metadata": {},
   "outputs": [],
   "source": []
  },
  {
   "cell_type": "code",
   "execution_count": 28,
   "id": "47647568",
   "metadata": {},
   "outputs": [],
   "source": [
    "y = list(x1.keys())"
   ]
  },
  {
   "cell_type": "code",
   "execution_count": 29,
   "id": "983d6d30",
   "metadata": {},
   "outputs": [
    {
     "data": {
      "text/plain": [
       "[1, 32, 49, 92, 14]"
      ]
     },
     "execution_count": 29,
     "metadata": {},
     "output_type": "execute_result"
    }
   ],
   "source": [
    "y"
   ]
  },
  {
   "cell_type": "code",
   "execution_count": 30,
   "id": "540acb40",
   "metadata": {},
   "outputs": [
    {
     "data": {
      "text/plain": [
       "52.038595"
      ]
     },
     "execution_count": 30,
     "metadata": {},
     "output_type": "execute_result"
    }
   ],
   "source": [
    "df.iloc[y[0]][\"latitude\"]"
   ]
  },
  {
   "cell_type": "code",
   "execution_count": 31,
   "id": "0901ce74",
   "metadata": {},
   "outputs": [
    {
     "data": {
      "text/plain": [
       "fsa_id                                                           797\n",
       "name                                                      The Grange\n",
       "address            The Grange Country Park, Straight Road, East B...\n",
       "postcode                                                     CO7 6UX\n",
       "easting                                                       609841\n",
       "northing                                                      235186\n",
       "latitude                                                   51.975506\n",
       "longitude                                                   1.053837\n",
       "local_authority                                              Babergh\n",
       "Name: 59, dtype: object"
      ]
     },
     "execution_count": 31,
     "metadata": {},
     "output_type": "execute_result"
    }
   ],
   "source": [
    "df.iloc[49]"
   ]
  },
  {
   "cell_type": "code",
   "execution_count": null,
   "id": "3b0b2b74",
   "metadata": {},
   "outputs": [],
   "source": []
  },
  {
   "cell_type": "markdown",
   "id": "452b940e",
   "metadata": {},
   "source": [
    "https://medium.com/analytics-vidhya/finding-nearest-pair-of-latitude-and-longitude-match-using-python-ce50d62af546\n"
   ]
  },
  {
   "cell_type": "code",
   "execution_count": 32,
   "id": "65b9a8cc",
   "metadata": {},
   "outputs": [
    {
     "data": {
      "text/plain": [
       "360"
      ]
     },
     "execution_count": 32,
     "metadata": {},
     "output_type": "execute_result"
    }
   ],
   "source": [
    "df[\"local_authority\"].nunique()"
   ]
  },
  {
   "cell_type": "markdown",
   "id": "bbf32650",
   "metadata": {},
   "source": [
    "# EDA"
   ]
  },
  {
   "cell_type": "markdown",
   "id": "4fcf5b84",
   "metadata": {},
   "source": [
    "* Pubs per local authority\n",
    "* Let’s look now to the number of pubs per local authority. We will look first to the local authorities with largest number of pubs (top 20)"
   ]
  },
  {
   "cell_type": "code",
   "execution_count": 33,
   "id": "4f56d677",
   "metadata": {},
   "outputs": [
    {
     "data": {
      "text/html": [
       "<div>\n",
       "<style scoped>\n",
       "    .dataframe tbody tr th:only-of-type {\n",
       "        vertical-align: middle;\n",
       "    }\n",
       "\n",
       "    .dataframe tbody tr th {\n",
       "        vertical-align: top;\n",
       "    }\n",
       "\n",
       "    .dataframe thead th {\n",
       "        text-align: right;\n",
       "    }\n",
       "</style>\n",
       "<table border=\"1\" class=\"dataframe\">\n",
       "  <thead>\n",
       "    <tr style=\"text-align: right;\">\n",
       "      <th></th>\n",
       "      <th>fsa_id</th>\n",
       "      <th>name</th>\n",
       "      <th>address</th>\n",
       "      <th>postcode</th>\n",
       "      <th>easting</th>\n",
       "      <th>northing</th>\n",
       "      <th>latitude</th>\n",
       "      <th>longitude</th>\n",
       "      <th>local_authority</th>\n",
       "    </tr>\n",
       "  </thead>\n",
       "  <tbody>\n",
       "    <tr>\n",
       "      <th>0</th>\n",
       "      <td>36</td>\n",
       "      <td>Ark Bar Restaurant</td>\n",
       "      <td>Ark Bar And Restaurant, Cattawade Street, Bran...</td>\n",
       "      <td>CO11 1RH</td>\n",
       "      <td>610194</td>\n",
       "      <td>233329</td>\n",
       "      <td>51.958698</td>\n",
       "      <td>1.057832</td>\n",
       "      <td>Babergh</td>\n",
       "    </tr>\n",
       "    <tr>\n",
       "      <th>1</th>\n",
       "      <td>74</td>\n",
       "      <td>Black Boy</td>\n",
       "      <td>The Lady Elizabeth, 7 Market Hill, SUDBURY, Su...</td>\n",
       "      <td>CO10 2EA</td>\n",
       "      <td>587334</td>\n",
       "      <td>241316</td>\n",
       "      <td>52.038595</td>\n",
       "      <td>0.729915</td>\n",
       "      <td>Babergh</td>\n",
       "    </tr>\n",
       "    <tr>\n",
       "      <th>4</th>\n",
       "      <td>97</td>\n",
       "      <td>Brewers Arms</td>\n",
       "      <td>The Brewers Arms, Bower House Tye, Polstead, C...</td>\n",
       "      <td>CO6 5BZ</td>\n",
       "      <td>598743</td>\n",
       "      <td>240655</td>\n",
       "      <td>52.028694</td>\n",
       "      <td>0.895650</td>\n",
       "      <td>Babergh</td>\n",
       "    </tr>\n",
       "    <tr>\n",
       "      <th>5</th>\n",
       "      <td>102</td>\n",
       "      <td>Bristol Arms</td>\n",
       "      <td>Bristol Hill, Shotley, IPSWICH</td>\n",
       "      <td>IP9 1PU</td>\n",
       "      <td>624624</td>\n",
       "      <td>233550</td>\n",
       "      <td>51.955042</td>\n",
       "      <td>1.267642</td>\n",
       "      <td>Babergh</td>\n",
       "    </tr>\n",
       "    <tr>\n",
       "      <th>6</th>\n",
       "      <td>122</td>\n",
       "      <td>Caffeine Lounge</td>\n",
       "      <td>14 Borehamgate Shopping Precinct, King Street,...</td>\n",
       "      <td>CO10 2ED</td>\n",
       "      <td>587527</td>\n",
       "      <td>241247</td>\n",
       "      <td>52.037903</td>\n",
       "      <td>0.732687</td>\n",
       "      <td>Babergh</td>\n",
       "    </tr>\n",
       "    <tr>\n",
       "      <th>...</th>\n",
       "      <td>...</td>\n",
       "      <td>...</td>\n",
       "      <td>...</td>\n",
       "      <td>...</td>\n",
       "      <td>...</td>\n",
       "      <td>...</td>\n",
       "      <td>...</td>\n",
       "      <td>...</td>\n",
       "      <td>...</td>\n",
       "    </tr>\n",
       "    <tr>\n",
       "      <th>51325</th>\n",
       "      <td>597119</td>\n",
       "      <td>Wrexham &amp; District War Memorial Club Ltd</td>\n",
       "      <td>Wrexham War Memorial Club Farndon Street, Wrex...</td>\n",
       "      <td>LL13 8DE</td>\n",
       "      <td>333909</td>\n",
       "      <td>350438</td>\n",
       "      <td>53.047100</td>\n",
       "      <td>-2.987319</td>\n",
       "      <td>Wrexham</td>\n",
       "    </tr>\n",
       "    <tr>\n",
       "      <th>51326</th>\n",
       "      <td>597127</td>\n",
       "      <td>Wrexham Lager Social Club</td>\n",
       "      <td>1 - 3 Union Road, Wrexham, Wrexham</td>\n",
       "      <td>LL13 7SR</td>\n",
       "      <td>333028</td>\n",
       "      <td>350563</td>\n",
       "      <td>53.048123</td>\n",
       "      <td>-3.000485</td>\n",
       "      <td>Wrexham</td>\n",
       "    </tr>\n",
       "    <tr>\n",
       "      <th>51327</th>\n",
       "      <td>597130</td>\n",
       "      <td>Wrexham Rail Sports &amp; Social Club</td>\n",
       "      <td>Sports And Social Club, 44 Brook Street, Wrexh...</td>\n",
       "      <td>LL13 7LU</td>\n",
       "      <td>333259</td>\n",
       "      <td>350213</td>\n",
       "      <td>53.044998</td>\n",
       "      <td>-2.996966</td>\n",
       "      <td>Wrexham</td>\n",
       "    </tr>\n",
       "    <tr>\n",
       "      <th>51328</th>\n",
       "      <td>597131</td>\n",
       "      <td>Wrexham Rugby Club</td>\n",
       "      <td>Wrexham Rugby Club Bryn Estyn Road, Wrexham, W...</td>\n",
       "      <td>LL13 9TY</td>\n",
       "      <td>335808</td>\n",
       "      <td>351078</td>\n",
       "      <td>53.053094</td>\n",
       "      <td>-2.959124</td>\n",
       "      <td>Wrexham</td>\n",
       "    </tr>\n",
       "    <tr>\n",
       "      <th>51329</th>\n",
       "      <td>597137</td>\n",
       "      <td>Y Tai</td>\n",
       "      <td>Y Tai Railway Road, Brymbo, Wrexham, Wrexham</td>\n",
       "      <td>LL11 5EA</td>\n",
       "      <td>329721</td>\n",
       "      <td>353785</td>\n",
       "      <td>53.076638</td>\n",
       "      <td>-3.050512</td>\n",
       "      <td>Wrexham</td>\n",
       "    </tr>\n",
       "  </tbody>\n",
       "</table>\n",
       "<p>50563 rows × 9 columns</p>\n",
       "</div>"
      ],
      "text/plain": [
       "       fsa_id                                      name  \\\n",
       "0          36                        Ark Bar Restaurant   \n",
       "1          74                                 Black Boy   \n",
       "4          97                              Brewers Arms   \n",
       "5         102                              Bristol Arms   \n",
       "6         122                           Caffeine Lounge   \n",
       "...       ...                                       ...   \n",
       "51325  597119  Wrexham & District War Memorial Club Ltd   \n",
       "51326  597127                 Wrexham Lager Social Club   \n",
       "51327  597130         Wrexham Rail Sports & Social Club   \n",
       "51328  597131                        Wrexham Rugby Club   \n",
       "51329  597137                                     Y Tai   \n",
       "\n",
       "                                                 address  postcode  easting  \\\n",
       "0      Ark Bar And Restaurant, Cattawade Street, Bran...  CO11 1RH   610194   \n",
       "1      The Lady Elizabeth, 7 Market Hill, SUDBURY, Su...  CO10 2EA   587334   \n",
       "4      The Brewers Arms, Bower House Tye, Polstead, C...   CO6 5BZ   598743   \n",
       "5                         Bristol Hill, Shotley, IPSWICH   IP9 1PU   624624   \n",
       "6      14 Borehamgate Shopping Precinct, King Street,...  CO10 2ED   587527   \n",
       "...                                                  ...       ...      ...   \n",
       "51325  Wrexham War Memorial Club Farndon Street, Wrex...  LL13 8DE   333909   \n",
       "51326                 1 - 3 Union Road, Wrexham, Wrexham  LL13 7SR   333028   \n",
       "51327  Sports And Social Club, 44 Brook Street, Wrexh...  LL13 7LU   333259   \n",
       "51328  Wrexham Rugby Club Bryn Estyn Road, Wrexham, W...  LL13 9TY   335808   \n",
       "51329       Y Tai Railway Road, Brymbo, Wrexham, Wrexham  LL11 5EA   329721   \n",
       "\n",
       "       northing   latitude  longitude local_authority  \n",
       "0        233329  51.958698   1.057832         Babergh  \n",
       "1        241316  52.038595   0.729915         Babergh  \n",
       "4        240655  52.028694   0.895650         Babergh  \n",
       "5        233550  51.955042   1.267642         Babergh  \n",
       "6        241247  52.037903   0.732687         Babergh  \n",
       "...         ...        ...        ...             ...  \n",
       "51325    350438  53.047100  -2.987319         Wrexham  \n",
       "51326    350563  53.048123  -3.000485         Wrexham  \n",
       "51327    350213  53.044998  -2.996966         Wrexham  \n",
       "51328    351078  53.053094  -2.959124         Wrexham  \n",
       "51329    353785  53.076638  -3.050512         Wrexham  \n",
       "\n",
       "[50563 rows x 9 columns]"
      ]
     },
     "execution_count": 33,
     "metadata": {},
     "output_type": "execute_result"
    }
   ],
   "source": [
    "df"
   ]
  },
  {
   "cell_type": "code",
   "execution_count": null,
   "id": "7b1e7af2",
   "metadata": {},
   "outputs": [],
   "source": []
  },
  {
   "cell_type": "code",
   "execution_count": 34,
   "id": "2cb624d7",
   "metadata": {},
   "outputs": [
    {
     "data": {
      "image/png": "[encoded data removed]",
      "text/plain": [
       "<Figure size 432x288 with 1 Axes>"
      ]
     },
     "metadata": {
      "needs_background": "light"
     },
     "output_type": "display_data"
    }
   ],
   "source": [
    "dflc = df.groupby('local_authority').size().reset_index(name='pubs')\n",
    "dflc = dflc.nlargest(20, 'pubs')\n",
    "dflc = dflc.sort_values('pubs', ascending=False)\n",
    "\n",
    "g = sns.barplot(x='local_authority', y='pubs', data=dflc)\n",
    "g.set(title='Local authorities with largest number of pubs', xlabel='Local authorities', ylabel='Number of pubs')\n",
    "g.set_xticklabels(g.get_xticklabels(), rotation=90)\n",
    "plt.show() "
   ]
  },
  {
   "cell_type": "code",
   "execution_count": 35,
   "id": "cbb2085e",
   "metadata": {},
   "outputs": [],
   "source": [
    "# Let’s see the local authorities with smaller number of pubs (bottom 20)"
   ]
  },
  {
   "cell_type": "code",
   "execution_count": 36,
   "id": "8012f718",
   "metadata": {},
   "outputs": [
    {
     "data": {
      "image/png": "[encoded data removed]",
      "text/plain": [
       "<Figure size 432x288 with 1 Axes>"
      ]
     },
     "metadata": {
      "needs_background": "light"
     },
     "output_type": "display_data"
    }
   ],
   "source": [
    "dflc = df.groupby('local_authority').size().reset_index(name='pubs')\n",
    "dflc = dflc.nsmallest(20, 'pubs').sort_values('pubs', ascending=False).reset_index(drop=True)\n",
    "\n",
    "g = sns.barplot(x='local_authority', y='pubs', data=dflc, color='blue')\n",
    "g.set(title='Local authorities with smallest number of pubs', xlabel='Local authorities', ylabel='Number of pubs')\n",
    "g.set_xticklabels(g.get_xticklabels(), rotation=90)\n",
    "plt.show()"
   ]
  },
  {
   "cell_type": "code",
   "execution_count": 37,
   "id": "0adf2cc5",
   "metadata": {},
   "outputs": [],
   "source": [
    "# Most frequent pub names\n",
    "# We will try now to group the pubs by names and see which names are most frequent"
   ]
  },
  {
   "cell_type": "code",
   "execution_count": 38,
   "id": "9adea992",
   "metadata": {},
   "outputs": [
    {
     "data": {
      "image/png": "[encoded data removed]",
      "text/plain": [
       "<Figure size 432x288 with 1 Axes>"
      ]
     },
     "metadata": {
      "needs_background": "light"
     },
     "output_type": "display_data"
    }
   ],
   "source": [
    "dfn = df.groupby('name').size().reset_index(name='pubs').nlargest(20, 'pubs')\n",
    "dfn = dfn.sort_values('pubs', ascending=False)\n",
    "\n",
    "g = sns.barplot(x='name', y='pubs', data=dfn, order=dfn['name'], palette='Blues_d')\n",
    "g.set_title('Top 20 of most frequent pub names in England')\n",
    "g.set_xlabel('Pub names')\n",
    "g.set_ylabel('Number of pubs')\n",
    "g.set_xticklabels(g.get_xticklabels(), rotation=90)\n",
    "plt.show()"
   ]
  },
  {
   "cell_type": "code",
   "execution_count": 39,
   "id": "cdf82cb4",
   "metadata": {},
   "outputs": [],
   "source": [
    "# df.to_csv(\"clean_data.csv\", index=False)"
   ]
  },
  {
   "cell_type": "code",
   "execution_count": 40,
   "id": "e787c0c8",
   "metadata": {},
   "outputs": [],
   "source": [
    "# !python -m pip install folium pandas"
   ]
  },
  {
   "cell_type": "code",
   "execution_count": 41,
   "id": "15ac8bbb",
   "metadata": {
    "scrolled": false
   },
   "outputs": [],
   "source": [
    "# import folium\n",
    "# from folium import plugins\n",
    "# m=folium.Map(location=[51.958698, 1.059041],zoom_start = 12)\n",
    "# roundnum = \"function(num) {return L.Util.formatNum(num, 5);};\"\n",
    "# plugins.MousePosition(position='topright', separator=' | ', prefix=\"Position:\",lat_formatter=roundnum, lng_formatter=roundnum).add_to(m)\n",
    "# plugins.Draw(export=False, position='topleft', draw_options=None, edit_options=None).add_to(m)  \n",
    "# m"
   ]
  },
  {
   "cell_type": "code",
   "execution_count": null,
   "id": "c6011b26",
   "metadata": {},
   "outputs": [],
   "source": []
  },
  {
   "cell_type": "code",
   "execution_count": 42,
   "id": "dd7de0a4",
   "metadata": {},
   "outputs": [
    {
     "data": {
      "text/html": [
       "<iframe srcdoc=\"&lt;!DOCTYPE html&gt;\n",
       "&lt;html&gt;\n",
       "&lt;head&gt;\n",
       "    \n",
       "    &lt;meta http-equiv=&quot;content-type&quot; content=&quot;text/html; charset=UTF-8&quot; /&gt;\n",
       "    \n",
       "        &lt;script&gt;\n",
       "            L_NO_TOUCH = false;\n",
       "            L_DISABLE_3D = false;\n",
       "        &lt;/script&gt;\n",
       "    \n",
       "    &lt;style&gt;html, body {width: 100%;height: 100%;margin: 0;padding: 0;}&lt;/style&gt;\n",
       "    &lt;style&gt;#map {position:absolute;top:0;bottom:0;right:0;left:0;}&lt;/style&gt;\n",
       "    &lt;script src=&quot;https://cdn.jsdelivr.net/npm/leaflet@1.9.3/dist/leaflet.js&quot;&gt;&lt;/script&gt;\n",
       "    &lt;script src=&quot;https://code.jquery.com/jquery-1.12.4.min.js&quot;&gt;&lt;/script&gt;\n",
       "    &lt;script src=&quot;https://cdn.jsdelivr.net/npm/bootstrap@5.2.2/dist/js/bootstrap.bundle.min.js&quot;&gt;&lt;/script&gt;\n",
       "    &lt;script src=&quot;https://cdnjs.cloudflare.com/ajax/libs/Leaflet.awesome-markers/2.0.2/leaflet.awesome-markers.js&quot;&gt;&lt;/script&gt;\n",
       "    &lt;link rel=&quot;stylesheet&quot; href=&quot;https://cdn.jsdelivr.net/npm/leaflet@1.9.3/dist/leaflet.css&quot;/&gt;\n",
       "    &lt;link rel=&quot;stylesheet&quot; href=&quot;https://cdn.jsdelivr.net/npm/bootstrap@5.2.2/dist/css/bootstrap.min.css&quot;/&gt;\n",
       "    &lt;link rel=&quot;stylesheet&quot; href=&quot;https://netdna.bootstrapcdn.com/bootstrap/3.0.0/css/bootstrap.min.css&quot;/&gt;\n",
       "    &lt;link rel=&quot;stylesheet&quot; href=&quot;https://cdn.jsdelivr.net/npm/@fortawesome/fontawesome-free@6.2.0/css/all.min.css&quot;/&gt;\n",
       "    &lt;link rel=&quot;stylesheet&quot; href=&quot;https://cdnjs.cloudflare.com/ajax/libs/Leaflet.awesome-markers/2.0.2/leaflet.awesome-markers.css&quot;/&gt;\n",
       "    &lt;link rel=&quot;stylesheet&quot; href=&quot;https://cdn.jsdelivr.net/gh/python-visualization/folium/folium/templates/leaflet.awesome.rotate.min.css&quot;/&gt;\n",
       "    \n",
       "            &lt;meta name=&quot;viewport&quot; content=&quot;width=device-width,\n",
       "                initial-scale=1.0, maximum-scale=1.0, user-scalable=no&quot; /&gt;\n",
       "            &lt;style&gt;\n",
       "                #map_da64b78954412124ef3fb66058c1b811 {\n",
       "                    position: relative;\n",
       "                    width: 100.0%;\n",
       "                    height: 100.0%;\n",
       "                    left: 0.0%;\n",
       "                    top: 0.0%;\n",
       "                }\n",
       "                .leaflet-container { font-size: 1rem; }\n",
       "            &lt;/style&gt;\n",
       "        \n",
       "&lt;/head&gt;\n",
       "&lt;body&gt;\n",
       "    \n",
       "    \n",
       "            &lt;div class=&quot;folium-map&quot; id=&quot;map_da64b78954412124ef3fb66058c1b811&quot; &gt;&lt;/div&gt;\n",
       "        \n",
       "&lt;/body&gt;\n",
       "&lt;script&gt;\n",
       "    \n",
       "    \n",
       "            var map_da64b78954412124ef3fb66058c1b811 = L.map(\n",
       "                &quot;map_da64b78954412124ef3fb66058c1b811&quot;,\n",
       "                {\n",
       "                    center: [51.958698, 1.059041],\n",
       "                    crs: L.CRS.EPSG3857,\n",
       "                    zoom: 11,\n",
       "                    zoomControl: true,\n",
       "                    preferCanvas: false,\n",
       "                }\n",
       "            );\n",
       "\n",
       "            \n",
       "\n",
       "        \n",
       "    \n",
       "            var tile_layer_5e1c8ad0988399c9f74642ac032485d1 = L.tileLayer(\n",
       "                &quot;https://{s}.tile.openstreetmap.org/{z}/{x}/{y}.png&quot;,\n",
       "                {&quot;attribution&quot;: &quot;Data by \\u0026copy; \\u003ca target=\\&quot;_blank\\&quot; href=\\&quot;http://openstreetmap.org\\&quot;\\u003eOpenStreetMap\\u003c/a\\u003e, under \\u003ca target=\\&quot;_blank\\&quot; href=\\&quot;http://www.openstreetmap.org/copyright\\&quot;\\u003eODbL\\u003c/a\\u003e.&quot;, &quot;detectRetina&quot;: false, &quot;maxNativeZoom&quot;: 18, &quot;maxZoom&quot;: 18, &quot;minZoom&quot;: 0, &quot;noWrap&quot;: false, &quot;opacity&quot;: 1, &quot;subdomains&quot;: &quot;abc&quot;, &quot;tms&quot;: false}\n",
       "            ).addTo(map_da64b78954412124ef3fb66058c1b811);\n",
       "        \n",
       "    \n",
       "            var marker_3954a5e9a66e8bddc8796875ef6ff6c5 = L.marker(\n",
       "                [51.958698, 1.059041],\n",
       "                {}\n",
       "            ).addTo(map_da64b78954412124ef3fb66058c1b811);\n",
       "        \n",
       "    \n",
       "        var popup_556ffc7c77bb86e4d744847f2c2b0f56 = L.popup({&quot;maxWidth&quot;: &quot;100%&quot;});\n",
       "\n",
       "        \n",
       "            \n",
       "                var html_1e9b51d9bf7f4c9ed1f4d50ddfb7a3a6 = $(`&lt;div id=&quot;html_1e9b51d9bf7f4c9ed1f4d50ddfb7a3a6&quot; style=&quot;width: 100.0%; height: 100.0%;&quot;&gt;Default popup Marker1&lt;/div&gt;`)[0];\n",
       "                popup_556ffc7c77bb86e4d744847f2c2b0f56.setContent(html_1e9b51d9bf7f4c9ed1f4d50ddfb7a3a6);\n",
       "            \n",
       "        \n",
       "\n",
       "        marker_3954a5e9a66e8bddc8796875ef6ff6c5.bindPopup(popup_556ffc7c77bb86e4d744847f2c2b0f56)\n",
       "        ;\n",
       "\n",
       "        \n",
       "    \n",
       "    \n",
       "            marker_3954a5e9a66e8bddc8796875ef6ff6c5.bindTooltip(\n",
       "                `&lt;div&gt;\n",
       "                     Click here to see Popup\n",
       "                 &lt;/div&gt;`,\n",
       "                {&quot;sticky&quot;: true}\n",
       "            );\n",
       "        \n",
       "    \n",
       "            var marker_54d7ec85f9bda86116eb4a4a6398d106 = L.marker(\n",
       "                [52.038595, 0.729915],\n",
       "                {}\n",
       "            ).addTo(map_da64b78954412124ef3fb66058c1b811);\n",
       "        \n",
       "    \n",
       "        var popup_f12fcf19fb11342fb58edcbc94a78c6b = L.popup({&quot;maxWidth&quot;: &quot;100%&quot;});\n",
       "\n",
       "        \n",
       "            \n",
       "                var html_5b6141b9527b4cf6a24048b0333f3291 = $(`&lt;div id=&quot;html_5b6141b9527b4cf6a24048b0333f3291&quot; style=&quot;width: 100.0%; height: 100.0%;&quot;&gt;&lt;strong&gt;Marker3&lt;/strong&gt;&lt;/div&gt;`)[0];\n",
       "                popup_f12fcf19fb11342fb58edcbc94a78c6b.setContent(html_5b6141b9527b4cf6a24048b0333f3291);\n",
       "            \n",
       "        \n",
       "\n",
       "        marker_54d7ec85f9bda86116eb4a4a6398d106.bindPopup(popup_f12fcf19fb11342fb58edcbc94a78c6b)\n",
       "        ;\n",
       "\n",
       "        \n",
       "    \n",
       "    \n",
       "            marker_54d7ec85f9bda86116eb4a4a6398d106.bindTooltip(\n",
       "                `&lt;div&gt;\n",
       "                     &lt;strong&gt;Click here to see Popup&lt;/strong&gt;\n",
       "                 &lt;/div&gt;`,\n",
       "                {&quot;sticky&quot;: true}\n",
       "            );\n",
       "        \n",
       "    \n",
       "            var marker_b44f8140a5efa4967e8eab1f23e34fdf = L.marker(\n",
       "                [52.028694, 0.89565],\n",
       "                {}\n",
       "            ).addTo(map_da64b78954412124ef3fb66058c1b811);\n",
       "        \n",
       "    \n",
       "        var popup_3a714808e8729988ab36b2ae3bf90f09 = L.popup({&quot;maxWidth&quot;: &quot;100%&quot;});\n",
       "\n",
       "        \n",
       "            \n",
       "                var html_65fc9e67fb246deec15c06b561ea5a84 = $(`&lt;div id=&quot;html_65fc9e67fb246deec15c06b561ea5a84&quot; style=&quot;width: 100.0%; height: 100.0%;&quot;&gt;&lt;h3 style=&quot;color:green;&quot;&gt;Marker2&lt;/h3&gt;&lt;/div&gt;`)[0];\n",
       "                popup_3a714808e8729988ab36b2ae3bf90f09.setContent(html_65fc9e67fb246deec15c06b561ea5a84);\n",
       "            \n",
       "        \n",
       "\n",
       "        marker_b44f8140a5efa4967e8eab1f23e34fdf.bindPopup(popup_3a714808e8729988ab36b2ae3bf90f09)\n",
       "        ;\n",
       "\n",
       "        \n",
       "    \n",
       "    \n",
       "            marker_b44f8140a5efa4967e8eab1f23e34fdf.bindTooltip(\n",
       "                `&lt;div&gt;\n",
       "                     &lt;strong&gt;Click here to see Popup&lt;/strong&gt;\n",
       "                 &lt;/div&gt;`,\n",
       "                {&quot;sticky&quot;: true}\n",
       "            );\n",
       "        \n",
       "&lt;/script&gt;\n",
       "&lt;/html&gt;\" width=\"900\" height=\"350\"style=\"border:none !important;\" \"allowfullscreen\" \"webkitallowfullscreen\" \"mozallowfullscreen\"></iframe>"
      ],
      "text/plain": [
       "<folium.folium.Map at 0x2690d2e9ca0>"
      ]
     },
     "execution_count": 42,
     "metadata": {},
     "output_type": "execute_result"
    }
   ],
   "source": [
    "fig3=Figure(width=900,height=350)\n",
    "m3=folium.Map(location=[51.958698, 1.059041], zoom_start=11)\n",
    "fig3.add_child(m3)\n",
    "\n",
    "#Adding markers to the map\n",
    "folium.Marker(location=[51.958698, 1.059041],popup='Default popup Marker1',tooltip='Click here to see Popup').add_to(m3)\n",
    "folium.Marker(location=[52.038595, 0.729915],popup='<strong>Marker3</strong>',tooltip='<strong>Click here to see Popup</strong>').add_to(m3)\n",
    "folium.Marker(location=[52.028694, 0.895650],popup='<h3 style=\"color:green;\">Marker2</h3>',tooltip='<strong>Click here to see Popup</strong>').add_to(m3)\n",
    "\n",
    "m3"
   ]
  },
  {
   "cell_type": "code",
   "execution_count": null,
   "id": "ed0b293f",
   "metadata": {},
   "outputs": [],
   "source": []
  },
  {
   "cell_type": "code",
   "execution_count": null,
   "id": "06399e5b",
   "metadata": {},
   "outputs": [],
   "source": []
  },
  {
   "cell_type": "code",
   "execution_count": null,
   "id": "6d88e278",
   "metadata": {},
   "outputs": [],
   "source": []
  }
 ],
 "metadata": {
  "kernelspec": {
   "display_name": "Python 3 (ipykernel)",
   "language": "python",
   "name": "python3"
  },
  "language_info": {
   "codemirror_mode": {
    "name": "ipython",
    "version": 3
   },
   "file_extension": ".py",
   "mimetype": "text/x-python",
   "name": "python",
   "nbconvert_exporter": "python",
   "pygments_lexer": "ipython3",
   "version": "3.9.12"
  }
 },
 "nbformat": 4,
 "nbformat_minor": 5
}
